{
 "cells": [
  {
   "cell_type": "code",
   "execution_count": 1,
   "metadata": {},
   "outputs": [],
   "source": [
    "import scipy.cluster.hierarchy as sch\n",
    "from sklearn.cluster import AgglomerativeClustering"
   ]
  },
  {
   "cell_type": "code",
   "execution_count": 2,
   "metadata": {},
   "outputs": [],
   "source": [
    "from sklearn.datasets import make_blobs\n",
    "import numpy as np\n",
    "import matplotlib.pyplot as plt"
   ]
  },
  {
   "cell_type": "code",
   "execution_count": 3,
   "metadata": {},
   "outputs": [],
   "source": [
    "data = make_blobs(n_samples=20,n_features=2,centers=4,cluster_std=1.6)\n",
    "#n_samples = how many samples, \n",
    "#n_features = define number of features of columns\n",
    "#centers - number of clusters"
   ]
  },
  {
   "cell_type": "code",
   "execution_count": 4,
   "metadata": {},
   "outputs": [
    {
     "data": {
      "text/plain": [
       "(array([[-4.92099621, -3.65741222],\n",
       "        [-4.323248  , -6.8348395 ],\n",
       "        [-4.74060627, -5.67423175],\n",
       "        [-8.63215051, -4.32711161],\n",
       "        [-4.48925273,  7.23852006],\n",
       "        [-4.37331022, -6.88405776],\n",
       "        [-4.60510335, -2.77262951],\n",
       "        [-2.47733781,  4.93186279],\n",
       "        [-5.01262063,  4.06391257],\n",
       "        [-5.01296417,  5.52204163],\n",
       "        [-7.19617329, -4.57731603],\n",
       "        [-3.55697639, -3.16014911],\n",
       "        [-8.29581991, -7.67723517],\n",
       "        [-8.81973624, -7.53260742],\n",
       "        [-0.18027569, -4.22676496],\n",
       "        [-5.57161346, -6.8578026 ],\n",
       "        [-9.16474434, -8.28430202],\n",
       "        [-7.16459755, -5.29980065],\n",
       "        [-0.33879985, -5.53149651],\n",
       "        [-5.72056653,  7.99027606]]),\n",
       " array([0, 1, 1, 0, 3, 0, 0, 3, 3, 3, 2, 1, 2, 2, 1, 0, 2, 2, 1, 3]))"
      ]
     },
     "execution_count": 4,
     "metadata": {},
     "output_type": "execute_result"
    }
   ],
   "source": [
    "data"
   ]
  },
  {
   "cell_type": "code",
   "execution_count": 5,
   "metadata": {},
   "outputs": [
    {
     "data": {
      "text/plain": [
       "array([[-4.92099621, -3.65741222],\n",
       "       [-4.323248  , -6.8348395 ],\n",
       "       [-4.74060627, -5.67423175],\n",
       "       [-8.63215051, -4.32711161],\n",
       "       [-4.48925273,  7.23852006],\n",
       "       [-4.37331022, -6.88405776],\n",
       "       [-4.60510335, -2.77262951],\n",
       "       [-2.47733781,  4.93186279],\n",
       "       [-5.01262063,  4.06391257],\n",
       "       [-5.01296417,  5.52204163],\n",
       "       [-7.19617329, -4.57731603],\n",
       "       [-3.55697639, -3.16014911],\n",
       "       [-8.29581991, -7.67723517],\n",
       "       [-8.81973624, -7.53260742],\n",
       "       [-0.18027569, -4.22676496],\n",
       "       [-5.57161346, -6.8578026 ],\n",
       "       [-9.16474434, -8.28430202],\n",
       "       [-7.16459755, -5.29980065],\n",
       "       [-0.33879985, -5.53149651],\n",
       "       [-5.72056653,  7.99027606]])"
      ]
     },
     "execution_count": 5,
     "metadata": {},
     "output_type": "execute_result"
    }
   ],
   "source": [
    "data[0]"
   ]
  },
  {
   "cell_type": "code",
   "execution_count": 6,
   "metadata": {},
   "outputs": [],
   "source": [
    "points = data[0] #create np array for data points"
   ]
  },
  {
   "cell_type": "code",
   "execution_count": 7,
   "metadata": {},
   "outputs": [
    {
     "data": {
      "text/plain": [
       "array([0, 1, 1, 0, 3, 0, 0, 3, 3, 3, 2, 1, 2, 2, 1, 0, 2, 2, 1, 3])"
      ]
     },
     "execution_count": 7,
     "metadata": {},
     "output_type": "execute_result"
    }
   ],
   "source": [
    "data[1]"
   ]
  },
  {
   "cell_type": "code",
   "execution_count": 25,
   "metadata": {},
   "outputs": [],
   "source": [
    "from scipy.cluster.hierarchy import dendrogram,linkage\n",
    "import scipy.cluster.hierarchy as sch"
   ]
  },
  {
   "cell_type": "code",
   "execution_count": 14,
   "metadata": {},
   "outputs": [
    {
     "data": {
      "text/plain": [
       "(-15, 15)"
      ]
     },
     "execution_count": 14,
     "metadata": {},
     "output_type": "execute_result"
    },
    {
     "data": {
      "image/png": "[encoded data removed]",
      "text/plain": [
       "<Figure size 432x288 with 1 Axes>"
      ]
     },
     "metadata": {
      "needs_background": "light"
     },
     "output_type": "display_data"
    }
   ],
   "source": [
    "plt.scatter(data[0][:,0],data[0][:,1],c=data[1])\n",
    "plt.xlim(-15,15)\n",
    "plt.ylim(-15,15)"
   ]
  },
  {
   "cell_type": "code",
   "execution_count": 17,
   "metadata": {},
   "outputs": [
    {
     "data": {
      "image/png": "[encoded data removed]",
      "text/plain": [
       "<Figure size 432x288 with 1 Axes>"
      ]
     },
     "metadata": {
      "needs_background": "light"
     },
     "output_type": "display_data"
    }
   ],
   "source": [
    "#dendogram:\n",
    "dendrogram = sch.dendrogram(sch.linkage(points,method='ward'))"
   ]
  },
  {
   "cell_type": "markdown",
   "metadata": {},
   "source": [
    "By looking at the dendrogram how can we know how many clusters to have? In a dendrogram look for the largest vertical line which doesnt cross any horizontal line.Use this line to draw a horizontal line and then the points where this horizontal line crosses various vertical lines,count those lines and that count is the ideal answer for the number of clusters the data can have."
   ]
  },
  {
   "cell_type": "code",
   "execution_count": 15,
   "metadata": {},
   "outputs": [],
   "source": [
    "hc = AgglomerativeClustering(n_clusters=4,affinity='euclidean',linkage='ward') #create clusters"
   ]
  },
  {
   "cell_type": "code",
   "execution_count": 16,
   "metadata": {},
   "outputs": [],
   "source": [
    "y_hc=hc.fit_predict(points)"
   ]
  },
  {
   "cell_type": "code",
   "execution_count": 21,
   "metadata": {},
   "outputs": [
    {
     "data": {
      "text/plain": [
       "array([0, 0, 0, 2, 1, 0, 0, 1, 1, 1, 2, 0, 2, 2, 3, 0, 2, 2, 3, 1],\n",
       "      dtype=int64)"
      ]
     },
     "execution_count": 21,
     "metadata": {},
     "output_type": "execute_result"
    }
   ],
   "source": [
    "y_hc.view()"
   ]
  },
  {
   "cell_type": "code",
   "execution_count": 19,
   "metadata": {},
   "outputs": [
    {
     "data": {
      "text/plain": [
       "<matplotlib.collections.PathCollection at 0x1f367f537f0>"
      ]
     },
     "execution_count": 19,
     "metadata": {},
     "output_type": "execute_result"
    },
    {
     "data": {
      "image/png": "[encoded data removed]",
      "text/plain": [
       "<Figure size 432x288 with 1 Axes>"
      ]
     },
     "metadata": {
      "needs_background": "light"
     },
     "output_type": "display_data"
    }
   ],
   "source": [
    "plt.scatter(points[y_hc==0,0], points[y_hc ==0,1], s=100,c='red')\n",
    "plt.scatter(points[y_hc==1,0], points[y_hc ==1,1], s=100,c='black')\n",
    "plt.scatter(points[y_hc==2,0], points[y_hc ==2,1], s=100,c='blue')\n",
    "plt.scatter(points[y_hc==3,0], points[y_hc ==3,1], s=100,c='cyan')"
   ]
  },
  {
   "cell_type": "code",
   "execution_count": 27,
   "metadata": {},
   "outputs": [],
   "source": [
    "from sklearn import cluster"
   ]
  },
  {
   "cell_type": "code",
   "execution_count": 31,
   "metadata": {},
   "outputs": [],
   "source": [
    "#print(cluster.labels_)\n",
    "#print(cluster.n_clusters)"
   ]
  },
  {
   "cell_type": "code",
   "execution_count": 20,
   "metadata": {},
   "outputs": [
    {
     "data": {
      "text/plain": [
       "AgglomerativeClustering(affinity='euclidean', compute_full_tree='auto',\n",
       "            connectivity=None, linkage='ward', memory=None, n_clusters=2,\n",
       "            pooling_func='deprecated')"
      ]
     },
     "execution_count": 20,
     "metadata": {},
     "output_type": "execute_result"
    }
   ],
   "source": [
    "#fit will do an itterative process to tell exactly how many cluster is good.\n",
    "clustering=AgglomerativeClustering().fit(points)\n",
    "clustering"
   ]
  }
 ],
 "metadata": {
  "kernelspec": {
   "display_name": "Python 3",
   "language": "python",
   "name": "python3"
  },
  "language_info": {
   "codemirror_mode": {
    "name": "ipython",
    "version": 3
   },
   "file_extension": ".py",
   "mimetype": "text/x-python",
   "name": "python",
   "nbconvert_exporter": "python",
   "pygments_lexer": "ipython3",
   "version": "3.7.3"
  }
 },
 "nbformat": 4,
 "nbformat_minor": 2
}
